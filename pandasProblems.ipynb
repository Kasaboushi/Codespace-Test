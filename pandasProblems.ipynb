{
 "cells": [
  {
   "cell_type": "code",
   "execution_count": null,
   "id": "921bbf31",
   "metadata": {},
   "outputs": [],
   "source": [
    "# First, create a series from the list below. Then, print it to make sure it works properly.\n",
    "# After that, try to print individual elements.\n",
    "\n",
    "list = [1,2,3,4,5,6,7,8,9,10,11,12,13,14,15,16,17,18,19,20]\n"
   ]
  },
  {
   "cell_type": "code",
   "execution_count": null,
   "id": "2e6da36f",
   "metadata": {},
   "outputs": [],
   "source": [
    "# Next, try to make a DataFrame. To start, create a DataFrame from test.csv and print it. Try pd.read_csv()\n",
    "# dict is a sample dictionary that you can use as well. Create a second dataframe with dict.\n",
    "\n",
    "dict = {\"A\":[1,2,3,4,5], \"B\":[\"a\",\"b\",\"c\",\"d\",\"e\"], \"C\":[\"I\",\"love\",\"learning\",\"Pandas\",\"!\"]}\n",
    "\n",
    "# Use df.loc[] to return the first row. Print the result.\n",
    "\n",
    "# Use df.loc[] to return the first three rows. Print the result.\n",
    "\n",
    "# Try df.head() and df.tail()\n",
    "\n",
    "# Print all rows with A values greater than 3 using a conditional.\n",
    "\n",
    "# Print all names of the rows and columns\n"
   ]
  },
  {
   "cell_type": "code",
   "execution_count": null,
   "id": "729daa93",
   "metadata": {},
   "outputs": [
    {
     "ename": "",
     "evalue": "",
     "output_type": "error",
     "traceback": [
      "\u001b[1;31mRunning cells with 'Python 3.11.2' requires the ipykernel package.\n",
      "\u001b[1;31mInstall 'ipykernel' into the Python environment. \n",
      "\u001b[1;31mCommand: '/bin/python3 -m pip install ipykernel -U --user --force-reinstall'"
     ]
    }
   ],
   "source": [
    "# Now, we will move into Data Cleaning problems. \n",
    "clean = {\n",
    "    \"Date\": [\"2020/12/01\",\"2020/12/02\",\"2020/12/03\",null,2020/12/04,20201205]\n",
    "    \"Pulse\": [110,117,103,109,117,102]\n",
    "    \"MaxPulse\": [130,145,135,175,148,127]\n",
    "    \"Calories\": [409.1,479.0,340.0,282.4,406.0,300.0]\n",
    "}\n",
    "df.dropna(inplace = True)\n",
    "print(df)\n"
   ]
  }
 ],
 "metadata": {
  "kernelspec": {
   "display_name": "Python 3",
   "language": "python",
   "name": "python3"
  },
  "language_info": {
   "name": "python",
   "version": "3.11.2"
  }
 },
 "nbformat": 4,
 "nbformat_minor": 5
}
