{
 "cells": [
  {
   "cell_type": "markdown",
   "id": "fa54e333",
   "metadata": {},
   "source": [
    "# Sine Wave Dataset with Error\n",
    "\n",
    "This notebook demonstrates how to:\n",
    "1. Generate a sine wave dataset\n",
    "2. Add a random error component (10% noise)\n",
    "3. Visualize the data using a line chart\n",
    "4. Compare the original sine wave with the noisy version"
   ]
  },
  {
   "cell_type": "markdown",
   "id": "950efd13",
   "metadata": {},
   "source": [
    "## 1. Setting Up the Environment\n",
    "\n",
    "First, let's import the necessary libraries for our task:\n",
    "- NumPy: For mathematical functions and array operations\n",
    "- Pandas: For data manipulation and analysis\n",
    "- Matplotlib: For basic plotting\n",
    "- Plotly Express: For interactive visualizations"
   ]
  },
  {
   "cell_type": "code",
   "execution_count": 1,
   "id": "1fa38c57",
   "metadata": {},
   "outputs": [],
   "source": [
    "# Import required libraries\n",
    "import numpy as np\n",
    "import pandas as pd\n",
    "import matplotlib.pyplot as plt\n",
    "import plotly.express as px\n",
    "\n",
    "# Set a random seed for reproducibility\n",
    "np.random.seed(42)\n",
    "\n",
    "# Display plots inline in the notebook\n",
    "%matplotlib inline\n",
    "# Make plots a bit larger\n",
    "plt.rcParams['figure.figsize'] = (12, 6)"
   ]
  },
  {
   "cell_type": "markdown",
   "id": "2013f20c",
   "metadata": {},
   "source": [
    "## 2. Generating the Sine Wave Dataset\n",
    "\n",
    "We'll create a sine wave dataset with the following characteristics:\n",
    "- X values from 0 to 4π (two complete cycles)\n",
    "- Y values calculated as sin(x)\n",
    "- 10% random noise added to the Y values"
   ]
  },
  {
   "cell_type": "code",
   "execution_count": 2,
   "id": "4e8bda97",
   "metadata": {},
   "outputs": [
    {
     "data": {
      "text/html": [
       "<div>\n",
       "<style scoped>\n",
       "    .dataframe tbody tr th:only-of-type {\n",
       "        vertical-align: middle;\n",
       "    }\n",
       "\n",
       "    .dataframe tbody tr th {\n",
       "        vertical-align: top;\n",
       "    }\n",
       "\n",
       "    .dataframe thead th {\n",
       "        text-align: right;\n",
       "    }\n",
       "</style>\n",
       "<table border=\"1\" class=\"dataframe\">\n",
       "  <thead>\n",
       "    <tr style=\"text-align: right;\">\n",
       "      <th></th>\n",
       "      <th>x</th>\n",
       "      <th>y_pure</th>\n",
       "      <th>y_noisy</th>\n",
       "    </tr>\n",
       "  </thead>\n",
       "  <tbody>\n",
       "    <tr>\n",
       "      <th>0</th>\n",
       "      <td>0.000000</td>\n",
       "      <td>0.000000</td>\n",
       "      <td>0.099340</td>\n",
       "    </tr>\n",
       "    <tr>\n",
       "      <th>1</th>\n",
       "      <td>0.063148</td>\n",
       "      <td>0.063106</td>\n",
       "      <td>0.035454</td>\n",
       "    </tr>\n",
       "    <tr>\n",
       "      <th>2</th>\n",
       "      <td>0.126295</td>\n",
       "      <td>0.125960</td>\n",
       "      <td>0.255493</td>\n",
       "    </tr>\n",
       "    <tr>\n",
       "      <th>3</th>\n",
       "      <td>0.189443</td>\n",
       "      <td>0.188312</td>\n",
       "      <td>0.492908</td>\n",
       "    </tr>\n",
       "    <tr>\n",
       "      <th>4</th>\n",
       "      <td>0.252590</td>\n",
       "      <td>0.249913</td>\n",
       "      <td>0.203084</td>\n",
       "    </tr>\n",
       "  </tbody>\n",
       "</table>\n",
       "</div>"
      ],
      "text/plain": [
       "          x    y_pure   y_noisy\n",
       "0  0.000000  0.000000  0.099340\n",
       "1  0.063148  0.063106  0.035454\n",
       "2  0.126295  0.125960  0.255493\n",
       "3  0.189443  0.188312  0.492908\n",
       "4  0.252590  0.249913  0.203084"
      ]
     },
     "execution_count": 2,
     "metadata": {},
     "output_type": "execute_result"
    }
   ],
   "source": [
    "# Generate x values (from 0 to 4π)\n",
    "x = np.linspace(0, 4 * np.pi, 200)\n",
    "\n",
    "# Calculate pure sine wave\n",
    "y_pure = np.sin(x)\n",
    "\n",
    "# Calculate the amplitude of the sine wave\n",
    "amplitude = np.max(y_pure) - np.min(y_pure)\n",
    "\n",
    "# Add 10% random noise (relative to the amplitude)\n",
    "noise_level = 0.1 * amplitude\n",
    "y_noisy = y_pure + np.random.normal(0, noise_level, len(x))\n",
    "\n",
    "# Create a DataFrame to store our data\n",
    "df = pd.DataFrame({\n",
    "    'x': x,\n",
    "    'y_pure': y_pure,\n",
    "    'y_noisy': y_noisy\n",
    "})\n",
    "\n",
    "# Display the first few rows of our dataset\n",
    "df.head()"
   ]
  },
  {
   "cell_type": "markdown",
   "id": "d47cc1c1",
   "metadata": {},
   "source": [
    "## 3. Visualizing the Dataset\n",
    "\n",
    "Let's visualize our data to see how the noisy sine wave compares to the pure sine wave."
   ]
  },
  {
   "cell_type": "code",
   "execution_count": 3,
   "id": "154ef225",
   "metadata": {},
   "outputs": [
    {
     "data": {
      "image/png": "[encoded data removed]",
      "text/plain": [
       "<Figure size 1200x600 with 1 Axes>"
      ]
     },
     "metadata": {},
     "output_type": "display_data"
    }
   ],
   "source": [
    "# Basic visualization with Matplotlib\n",
    "plt.figure(figsize=(12, 6))\n",
    "plt.plot(df['x'], df['y_pure'], 'b-', label='Pure Sine Wave')\n",
    "plt.plot(df['x'], df['y_noisy'], 'r.', alpha=0.6, label='Sine Wave with 10% Noise')\n",
    "plt.title('Sine Wave with 10% Random Error')\n",
    "plt.xlabel('x')\n",
    "plt.ylabel('y')\n",
    "plt.legend()\n",
    "plt.grid(True)\n",
    "plt.show()"
   ]
  },
  {
   "cell_type": "markdown",
   "id": "60dc3a81",
   "metadata": {},
   "source": [
    "## 4. Interactive Visualization with Plotly\n",
    "\n",
    "Plotly provides interactive visualizations that allow us to zoom, pan, and hover over data points."
   ]
  },
  {
   "cell_type": "code",
   "execution_count": 4,
   "id": "99f4d80b",
   "metadata": {},
   "outputs": [
    {
     "data": {
      "application/vnd.plotly.v1+json": {
       "config": {
        "plotlyServerURL": "https://plot.ly"
       },
       "data": [
        {
         "hovertemplate": "Type=y_pure<br>X Value=%{x}<br>Y Value=%{y}<extra></extra>",
         "legendgroup": "y_pure",
         "line": {
          "color": "#636efa",
          "dash": "solid",
          "shape": "linear"
         },
         "marker": {
          "symbol": "circle"
         },
         "mode": "lines",
         "name": "y_pure",
         "orientation": "v",
         "showlegend": true,
         "type": "scatter",
         "x": {
          "bdata": "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",
          "dtype": "f8"
         },
         "xaxis": "x",
         "y": {
          "bdata": "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",
          "dtype": "f8"
         },
         "yaxis": "y"
        },
        {
         "hovertemplate": "Type=y_noisy<br>X Value=%{x}<br>Y Value=%{y}<extra></extra>",
         "legendgroup": "y_noisy",
         "line": {
          "color": "#EF553B",
          "dash": "solid",
          "shape": "linear"
         },
         "marker": {
          "symbol": "circle"
         },
         "mode": "lines",
         "name": "y_noisy",
         "orientation": "v",
         "showlegend": true,
         "type": "scatter",
         "x": {
          "bdata": "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",
          "dtype": "f8"
         },
         "xaxis": "x",
         "y": {
          "bdata": "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",
          "dtype": "f8"
         },
         "yaxis": "y"
        },
        {
         "marker": {
          "color": "red",
          "opacity": 0.5,
          "size": 3
         },
         "mode": "markers",
         "name": "Noisy Data Points",
         "showlegend": true,
         "type": "scatter",
         "x": {
          "bdata": "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",
          "dtype": "f8"
         },
         "y": {
          "bdata": "zEtNNFRuuT/dQ6mA+iaiP9Hs1uQAWtA/EONFns6L3z8JNXTwpf7JP+YUrtNU4NA/mIfj5Gbx5T8Wg9UOr5niP3gqc3f39tg/kh9TbQiy5D/+h+y4mNnfP4qSWPGjgOE/RlySbdCK5z+uoBeMHVjWPzIUF0QYats/X9zHdPlg5j8OfwA4c5/kP+GIV3mhIu4/OOWg5GI45z88124s1sjkP+ILJ4wQ8PM/JuQxBBGa7T9VTx8YAOjvPxh3yB9pqOY/QaGh8Jt37D+VThLDvFrwP4rIhpWbjeg/fAtZpvAO8T+wXkPZ9IjrPzg3mi7ADe0/u1aGCex86j/mf6NFw770P9bcEW+cuuw/MKFwqUsc5T+IeARVagzwPw9Xgjiv3eE/lLs4zXnC6T8pzjC0Vg7VP2HFBy50P9o/ateeiC9a5T/GQ9pS6zTnP2UQI5dZ5OE/MHpRmQab3D/4CB09b5vWP4AaZ0HRc64/aGbPY6Zkwz9pt2OPgjzCP8ERdgLFltg/GGp96KLpxj+OeShPSInTv7ToWpBEGqk/TlV402/zw78CuvkKHrrRv98qipKZ2rS/NI8Clssxrr+0xMTgc9LBv1rohI7NrOG/4Ppv+2gf4L9on8IuMJ3bv+4+ZieUzta/5Mb9WN9c5r8zRk2siw7mv6Y8FwQxcO2/H8nss99p779rc+DBEN3jvyEE7hzkluG/yU6c0KzU6780UWX9cPDlvxDHfd4H7eq/wMlb/8UQ8b/raeJOAVXsv3ZEwiR3UuW/QqdvD2jK779A9gu3edHlv1902LHWXvi/qpZc3yO76r/ZHECbhlLvv9HzjuP1xvC/KR1NFlKw7r82e+DB18D1v5BC84SIlO+/HntP3Aso67/ejRPcQSLjv5g57mDv8e6/dGE+9326778ohOcC7JXsvxLuC5gyPOK/FiqOj9Oc5L+KsxParKPovyfFnol0aeC/9qWbp9dx4b+SHoa9/lPUv6WQIICSFuO/QJf+1F273b/5QqGhds3av5qJEBFrVuK/TzUj99t6xL9HKqUbleG6v9BmXnxc87e/sttgqI8XtL8oTkvzhRjQv+CpWMiSaIU/WlMYsEqztj9UNzWbPxeuPwYTtga2wc8/O8PRlZj02j+0nBPLFtfoP4RNB3PEbN8/1n+d9+4C4j+ceA7B65bhP272c47/qs0/SrJj3E0U5T94/I4RHRrnP/LIF0bM7fM/QHUe47Yk6D/jIMDq73vsP6n71SX1Z+s/u7ivadwc5T/q+lhhu2DyP0M24ghIfvE/tJfOlavs8T9eQzVJw3TpP0BJqpQnT/Q/kNJjBWvo5j8jZIcIl9/xP3AQePgs//Y/dYvgRxB+6T9b1THq6u/rPzYqTtmRze8/KtkXeTps6z+BsWh3FhTkP+lcVsnYre0/XPKvfSeQ5T9sLmdlm2buP5VEijqMYuQ/Utlcw8x98T/IYC3n077iPy6G2sT6S+Q/oqtZTTIT6j+8mf8Sd9bWP7vGhkA7GuM/Bmd5C+BK6D8EIUH2jNm+P2cuo6S7+No/+y1Er04o2D8Siau3S/raP5CJT797Uaa/NCgRhsFav78uLK5zVHTHP/Xmj1kVP7M/AOBE5JiPZj+KHYgEbv2kv2EMyIwiw9O/b+7YMTUVyL+++As+dFHOv5CSWGTc39+/UI9Y7tijpL8gpi7oXAXYv559VRlca+i/f/IgWseO3L8NS/nnhlTqv15XR2o9luC/c4SIzTdP37/IP9wt2aztv4iBzY+Bg+O/AK1ImO8w6L/Z+tOtX57mvzBfi4wdreC/cUAT/+A0779lgbgdzpTxv91D9q59TvK/2zrjDMxM8r+VhnxqVhrwv24fhzBpvO2/HVX9v2067r+OMoJ/SKjqvwr6i/1Xse+/UCU+Nfgr5r+0VjeWyF7wv0ouD/+YLNq/WglqGJ/R6b9jjkVVL0Lxv7rlK8kjffG/NuZE2lwE6L/PHwPCTmjrvw5/LGNILeS/pO7/m1lj5L/qMzP3tnXmv1UrjQkD5+m/LNUs9eKV7L8/hmxzrRTkv+l8ANwhA9S/X0iHATKj2L+k61EaDs/jv6bi4dsQqNG/3dpEuQIgxr+HblKibl3Xv5X5FmMNYLi/mSHnr4VZqr+AedM3VkLNvw==",
          "dtype": "f8"
         }
        }
       ],
       "layout": {
        "legend": {
         "title": {
          "text": "Data Type"
         },
         "tracegroupgap": 0
        },
        "template": {
         "data": {
          "bar": [
           {
            "error_x": {
             "color": "#2a3f5f"
            },
            "error_y": {
             "color": "#2a3f5f"
            },
            "marker": {
             "line": {
              "color": "white",
              "width": 0.5
             },
             "pattern": {
              "fillmode": "overlay",
              "size": 10,
              "solidity": 0.2
             }
            },
            "type": "bar"
           }
          ],
          "barpolar": [
           {
            "marker": {
             "line": {
              "color": "white",
              "width": 0.5
             },
             "pattern": {
              "fillmode": "overlay",
              "size": 10,
              "solidity": 0.2
             }
            },
            "type": "barpolar"
           }
          ],
          "carpet": [
           {
            "aaxis": {
             "endlinecolor": "#2a3f5f",
             "gridcolor": "#C8D4E3",
             "linecolor": "#C8D4E3",
             "minorgridcolor": "#C8D4E3",
             "startlinecolor": "#2a3f5f"
            },
            "baxis": {
             "endlinecolor": "#2a3f5f",
             "gridcolor": "#C8D4E3",
             "linecolor": "#C8D4E3",
             "minorgridcolor": "#C8D4E3",
             "startlinecolor": "#2a3f5f"
            },
            "type": "carpet"
           }
          ],
          "choropleth": [
           {
            "colorbar": {
             "outlinewidth": 0,
             "ticks": ""
            },
            "type": "choropleth"
           }
          ],
          "contour": [
           {
            "colorbar": {
             "outlinewidth": 0,
             "ticks": ""
            },
            "colorscale": [
             [
              0,
              "#0d0887"
             ],
             [
              0.1111111111111111,
              "#46039f"
             ],
             [
              0.2222222222222222,
              "#7201a8"
             ],
             [
              0.3333333333333333,
              "#9c179e"
             ],
             [
              0.4444444444444444,
              "#bd3786"
             ],
             [
              0.5555555555555556,
              "#d8576b"
             ],
             [
              0.6666666666666666,
              "#ed7953"
             ],
             [
              0.7777777777777778,
              "#fb9f3a"
             ],
             [
              0.8888888888888888,
              "#fdca26"
             ],
             [
              1,
              "#f0f921"
             ]
            ],
            "type": "contour"
           }
          ],
          "contourcarpet": [
           {
            "colorbar": {
             "outlinewidth": 0,
             "ticks": ""
            },
            "type": "contourcarpet"
           }
          ],
          "heatmap": [
           {
            "colorbar": {
             "outlinewidth": 0,
             "ticks": ""
            },
            "colorscale": [
             [
              0,
              "#0d0887"
             ],
             [
              0.1111111111111111,
              "#46039f"
             ],
             [
              0.2222222222222222,
              "#7201a8"
             ],
             [
              0.3333333333333333,
              "#9c179e"
             ],
             [
              0.4444444444444444,
              "#bd3786"
             ],
             [
              0.5555555555555556,
              "#d8576b"
             ],
             [
              0.6666666666666666,
              "#ed7953"
             ],
             [
              0.7777777777777778,
              "#fb9f3a"
             ],
             [
              0.8888888888888888,
              "#fdca26"
             ],
             [
              1,
              "#f0f921"
             ]
            ],
            "type": "heatmap"
           }
          ],
          "histogram": [
           {
            "marker": {
             "pattern": {
              "fillmode": "overlay",
              "size": 10,
              "solidity": 0.2
             }
            },
            "type": "histogram"
           }
          ],
          "histogram2d": [
           {
            "colorbar": {
             "outlinewidth": 0,
             "ticks": ""
            },
            "colorscale": [
             [
              0,
              "#0d0887"
             ],
             [
              0.1111111111111111,
              "#46039f"
             ],
             [
              0.2222222222222222,
              "#7201a8"
             ],
             [
              0.3333333333333333,
              "#9c179e"
             ],
             [
              0.4444444444444444,
              "#bd3786"
             ],
             [
              0.5555555555555556,
              "#d8576b"
             ],
             [
              0.6666666666666666,
              "#ed7953"
             ],
             [
              0.7777777777777778,
              "#fb9f3a"
             ],
             [
              0.8888888888888888,
              "#fdca26"
             ],
             [
              1,
              "#f0f921"
             ]
            ],
            "type": "histogram2d"
           }
          ],
          "histogram2dcontour": [
           {
            "colorbar": {
             "outlinewidth": 0,
             "ticks": ""
            },
            "colorscale": [
             [
              0,
              "#0d0887"
             ],
             [
              0.1111111111111111,
              "#46039f"
             ],
             [
              0.2222222222222222,
              "#7201a8"
             ],
             [
              0.3333333333333333,
              "#9c179e"
             ],
             [
              0.4444444444444444,
              "#bd3786"
             ],
             [
              0.5555555555555556,
              "#d8576b"
             ],
             [
              0.6666666666666666,
              "#ed7953"
             ],
             [
              0.7777777777777778,
              "#fb9f3a"
             ],
             [
              0.8888888888888888,
              "#fdca26"
             ],
             [
              1,
              "#f0f921"
             ]
            ],
            "type": "histogram2dcontour"
           }
          ],
          "mesh3d": [
           {
            "colorbar": {
             "outlinewidth": 0,
             "ticks": ""
            },
            "type": "mesh3d"
           }
          ],
          "parcoords": [
           {
            "line": {
             "colorbar": {
              "outlinewidth": 0,
              "ticks": ""
             }
            },
            "type": "parcoords"
           }
          ],
          "pie": [
           {
            "automargin": true,
            "type": "pie"
           }
          ],
          "scatter": [
           {
            "fillpattern": {
             "fillmode": "overlay",
             "size": 10,
             "solidity": 0.2
            },
            "type": "scatter"
           }
          ],
          "scatter3d": [
           {
            "line": {
             "colorbar": {
              "outlinewidth": 0,
              "ticks": ""
             }
            },
            "marker": {
             "colorbar": {
              "outlinewidth": 0,
              "ticks": ""
             }
            },
            "type": "scatter3d"
           }
          ],
          "scattercarpet": [
           {
            "marker": {
             "colorbar": {
              "outlinewidth": 0,
              "ticks": ""
             }
            },
            "type": "scattercarpet"
           }
          ],
          "scattergeo": [
           {
            "marker": {
             "colorbar": {
              "outlinewidth": 0,
              "ticks": ""
             }
            },
            "type": "scattergeo"
           }
          ],
          "scattergl": [
           {
            "marker": {
             "colorbar": {
              "outlinewidth": 0,
              "ticks": ""
             }
            },
            "type": "scattergl"
           }
          ],
          "scattermap": [
           {
            "marker": {
             "colorbar": {
              "outlinewidth": 0,
              "ticks": ""
             }
            },
            "type": "scattermap"
           }
          ],
          "scattermapbox": [
           {
            "marker": {
             "colorbar": {
              "outlinewidth": 0,
              "ticks": ""
             }
            },
            "type": "scattermapbox"
           }
          ],
          "scatterpolar": [
           {
            "marker": {
             "colorbar": {
              "outlinewidth": 0,
              "ticks": ""
             }
            },
            "type": "scatterpolar"
           }
          ],
          "scatterpolargl": [
           {
            "marker": {
             "colorbar": {
              "outlinewidth": 0,
              "ticks": ""
             }
            },
            "type": "scatterpolargl"
           }
          ],
          "scatterternary": [
           {
            "marker": {
             "colorbar": {
              "outlinewidth": 0,
              "ticks": ""
             }
            },
            "type": "scatterternary"
           }
          ],
          "surface": [
           {
            "colorbar": {
             "outlinewidth": 0,
             "ticks": ""
            },
            "colorscale": [
             [
              0,
              "#0d0887"
             ],
             [
              0.1111111111111111,
              "#46039f"
             ],
             [
              0.2222222222222222,
              "#7201a8"
             ],
             [
              0.3333333333333333,
              "#9c179e"
             ],
             [
              0.4444444444444444,
              "#bd3786"
             ],
             [
              0.5555555555555556,
              "#d8576b"
             ],
             [
              0.6666666666666666,
              "#ed7953"
             ],
             [
              0.7777777777777778,
              "#fb9f3a"
             ],
             [
              0.8888888888888888,
              "#fdca26"
             ],
             [
              1,
              "#f0f921"
             ]
            ],
            "type": "surface"
           }
          ],
          "table": [
           {
            "cells": {
             "fill": {
              "color": "#EBF0F8"
             },
             "line": {
              "color": "white"
             }
            },
            "header": {
             "fill": {
              "color": "#C8D4E3"
             },
             "line": {
              "color": "white"
             }
            },
            "type": "table"
           }
          ]
         },
         "layout": {
          "annotationdefaults": {
           "arrowcolor": "#2a3f5f",
           "arrowhead": 0,
           "arrowwidth": 1
          },
          "autotypenumbers": "strict",
          "coloraxis": {
           "colorbar": {
            "outlinewidth": 0,
            "ticks": ""
           }
          },
          "colorscale": {
           "diverging": [
            [
             0,
             "#8e0152"
            ],
            [
             0.1,
             "#c51b7d"
            ],
            [
             0.2,
             "#de77ae"
            ],
            [
             0.3,
             "#f1b6da"
            ],
            [
             0.4,
             "#fde0ef"
            ],
            [
             0.5,
             "#f7f7f7"
            ],
            [
             0.6,
             "#e6f5d0"
            ],
            [
             0.7,
             "#b8e186"
            ],
            [
             0.8,
             "#7fbc41"
            ],
            [
             0.9,
             "#4d9221"
            ],
            [
             1,
             "#276419"
            ]
           ],
           "sequential": [
            [
             0,
             "#0d0887"
            ],
            [
             0.1111111111111111,
             "#46039f"
            ],
            [
             0.2222222222222222,
             "#7201a8"
            ],
            [
             0.3333333333333333,
             "#9c179e"
            ],
            [
             0.4444444444444444,
             "#bd3786"
            ],
            [
             0.5555555555555556,
             "#d8576b"
            ],
            [
             0.6666666666666666,
             "#ed7953"
            ],
            [
             0.7777777777777778,
             "#fb9f3a"
            ],
            [
             0.8888888888888888,
             "#fdca26"
            ],
            [
             1,
             "#f0f921"
            ]
           ],
           "sequentialminus": [
            [
             0,
             "#0d0887"
            ],
            [
             0.1111111111111111,
             "#46039f"
            ],
            [
             0.2222222222222222,
             "#7201a8"
            ],
            [
             0.3333333333333333,
             "#9c179e"
            ],
            [
             0.4444444444444444,
             "#bd3786"
            ],
            [
             0.5555555555555556,
             "#d8576b"
            ],
            [
             0.6666666666666666,
             "#ed7953"
            ],
            [
             0.7777777777777778,
             "#fb9f3a"
            ],
            [
             0.8888888888888888,
             "#fdca26"
            ],
            [
             1,
             "#f0f921"
            ]
           ]
          },
          "colorway": [
           "#636efa",
           "#EF553B",
           "#00cc96",
           "#ab63fa",
           "#FFA15A",
           "#19d3f3",
           "#FF6692",
           "#B6E880",
           "#FF97FF",
           "#FECB52"
          ],
          "font": {
           "color": "#2a3f5f"
          },
          "geo": {
           "bgcolor": "white",
           "lakecolor": "white",
           "landcolor": "white",
           "showlakes": true,
           "showland": true,
           "subunitcolor": "#C8D4E3"
          },
          "hoverlabel": {
           "align": "left"
          },
          "hovermode": "closest",
          "mapbox": {
           "style": "light"
          },
          "paper_bgcolor": "white",
          "plot_bgcolor": "white",
          "polar": {
           "angularaxis": {
            "gridcolor": "#EBF0F8",
            "linecolor": "#EBF0F8",
            "ticks": ""
           },
           "bgcolor": "white",
           "radialaxis": {
            "gridcolor": "#EBF0F8",
            "linecolor": "#EBF0F8",
            "ticks": ""
           }
          },
          "scene": {
           "xaxis": {
            "backgroundcolor": "white",
            "gridcolor": "#DFE8F3",
            "gridwidth": 2,
            "linecolor": "#EBF0F8",
            "showbackground": true,
            "ticks": "",
            "zerolinecolor": "#EBF0F8"
           },
           "yaxis": {
            "backgroundcolor": "white",
            "gridcolor": "#DFE8F3",
            "gridwidth": 2,
            "linecolor": "#EBF0F8",
            "showbackground": true,
            "ticks": "",
            "zerolinecolor": "#EBF0F8"
           },
           "zaxis": {
            "backgroundcolor": "white",
            "gridcolor": "#DFE8F3",
            "gridwidth": 2,
            "linecolor": "#EBF0F8",
            "showbackground": true,
            "ticks": "",
            "zerolinecolor": "#EBF0F8"
           }
          },
          "shapedefaults": {
           "line": {
            "color": "#2a3f5f"
           }
          },
          "ternary": {
           "aaxis": {
            "gridcolor": "#DFE8F3",
            "linecolor": "#A2B1C6",
            "ticks": ""
           },
           "baxis": {
            "gridcolor": "#DFE8F3",
            "linecolor": "#A2B1C6",
            "ticks": ""
           },
           "bgcolor": "white",
           "caxis": {
            "gridcolor": "#DFE8F3",
            "linecolor": "#A2B1C6",
            "ticks": ""
           }
          },
          "title": {
           "x": 0.05
          },
          "xaxis": {
           "automargin": true,
           "gridcolor": "#EBF0F8",
           "linecolor": "#EBF0F8",
           "ticks": "",
           "title": {
            "standoff": 15
           },
           "zerolinecolor": "#EBF0F8",
           "zerolinewidth": 2
          },
          "yaxis": {
           "automargin": true,
           "gridcolor": "#EBF0F8",
           "linecolor": "#EBF0F8",
           "ticks": "",
           "title": {
            "standoff": 15
           },
           "zerolinecolor": "#EBF0F8",
           "zerolinewidth": 2
          }
         }
        },
        "title": {
         "text": "Sine Wave with 10% Random Error"
        },
        "xaxis": {
         "anchor": "y",
         "domain": [
          0,
          1
         ],
         "title": {
          "text": "X Value"
         }
        },
        "yaxis": {
         "anchor": "x",
         "domain": [
          0,
          1
         ],
         "title": {
          "text": "Y Value"
         }
        }
       }
      }
     },
     "metadata": {},
     "output_type": "display_data"
    }
   ],
   "source": [
    "# Create a long-format DataFrame for Plotly\n",
    "df_long = pd.melt(df, id_vars=['x'], value_vars=['y_pure', 'y_noisy'], \n",
    "                  var_name='type', value_name='y')\n",
    "\n",
    "# Create an interactive plot with Plotly Express\n",
    "fig = px.line(df_long, x='x', y='y', color='type', \n",
    "              title='Sine Wave with 10% Random Error',\n",
    "              labels={'x': 'X Value', 'y': 'Y Value', 'type': 'Type'},\n",
    "              line_shape='linear')\n",
    "\n",
    "# Add markers for the noisy data points\n",
    "fig.add_scatter(x=df['x'], y=df['y_noisy'], mode='markers', \n",
    "                marker=dict(size=3, color='red', opacity=0.5), \n",
    "                name='Noisy Data Points', showlegend=True)\n",
    "\n",
    "# Update layout\n",
    "fig.update_layout(\n",
    "    xaxis_title='X Value',\n",
    "    yaxis_title='Y Value',\n",
    "    legend_title='Data Type',\n",
    "    template='plotly_white'\n",
    ")\n",
    "\n",
    "fig.show()"
   ]
  },
  {
   "cell_type": "markdown",
   "id": "e81d4acc",
   "metadata": {},
   "source": [
    "## 5. Calculating Error Statistics\n",
    "\n",
    "Let's calculate some statistics to quantify the error we introduced:"
   ]
  },
  {
   "cell_type": "code",
   "execution_count": 5,
   "id": "5462cbb6",
   "metadata": {},
   "outputs": [
    {
     "data": {
      "text/html": [
       "<div>\n",
       "<style scoped>\n",
       "    .dataframe tbody tr th:only-of-type {\n",
       "        vertical-align: middle;\n",
       "    }\n",
       "\n",
       "    .dataframe tbody tr th {\n",
       "        vertical-align: top;\n",
       "    }\n",
       "\n",
       "    .dataframe thead th {\n",
       "        text-align: right;\n",
       "    }\n",
       "</style>\n",
       "<table border=\"1\" class=\"dataframe\">\n",
       "  <thead>\n",
       "    <tr style=\"text-align: right;\">\n",
       "      <th></th>\n",
       "      <th>Value</th>\n",
       "    </tr>\n",
       "  </thead>\n",
       "  <tbody>\n",
       "    <tr>\n",
       "      <th>Mean Absolute Error</th>\n",
       "      <td>1.478963e-01</td>\n",
       "    </tr>\n",
       "    <tr>\n",
       "      <th>Max Absolute Error</th>\n",
       "      <td>5.440169e-01</td>\n",
       "    </tr>\n",
       "    <tr>\n",
       "      <th>Mean Percentage Error</th>\n",
       "      <td>2.344917e+14</td>\n",
       "    </tr>\n",
       "    <tr>\n",
       "      <th>Standard Deviation of Error</th>\n",
       "      <td>1.129255e-01</td>\n",
       "    </tr>\n",
       "  </tbody>\n",
       "</table>\n",
       "</div>"
      ],
      "text/plain": [
       "                                    Value\n",
       "Mean Absolute Error          1.478963e-01\n",
       "Max Absolute Error           5.440169e-01\n",
       "Mean Percentage Error        2.344917e+14\n",
       "Standard Deviation of Error  1.129255e-01"
      ]
     },
     "execution_count": 5,
     "metadata": {},
     "output_type": "execute_result"
    }
   ],
   "source": [
    "# Calculate absolute error\n",
    "df['absolute_error'] = np.abs(df['y_noisy'] - df['y_pure'])\n",
    "\n",
    "# Calculate percentage error (avoiding division by zero)\n",
    "df['percentage_error'] = np.where(\n",
    "    df['y_pure'] != 0,\n",
    "    np.abs((df['y_noisy'] - df['y_pure']) / df['y_pure']) * 100,\n",
    "    np.nan\n",
    ")\n",
    "\n",
    "# Display error statistics\n",
    "error_stats = {\n",
    "    'Mean Absolute Error': df['absolute_error'].mean(),\n",
    "    'Max Absolute Error': df['absolute_error'].max(),\n",
    "    'Mean Percentage Error': df['percentage_error'].mean(),\n",
    "    'Standard Deviation of Error': df['absolute_error'].std()\n",
    "}\n",
    "\n",
    "pd.DataFrame([error_stats]).T.rename(columns={0: 'Value'})"
   ]
  },
  {
   "cell_type": "markdown",
   "id": "6dcde09d",
   "metadata": {},
   "source": [
    "## 6. Conclusion\n",
    "\n",
    "In this notebook, we've:\n",
    "- Generated a pure sine wave dataset\n",
    "- Added 10% random noise to create a realistic dataset with errors\n",
    "- Visualized both the original and noisy datasets using matplotlib and plotly\n",
    "- Calculated error statistics to quantify the noise\n",
    "\n",
    "This type of synthetic dataset with controlled noise can be useful for:\n",
    "- Testing data analysis algorithms\n",
    "- Practicing signal processing techniques\n",
    "- Benchmarking machine learning models\n",
    "- Understanding the impact of measurement errors on data analysis"
   ]
  }
 ],
 "metadata": {
  "kernelspec": {
   "display_name": "Python 3",
   "language": "python",
   "name": "python3"
  },
  "language_info": {
   "codemirror_mode": {
    "name": "ipython",
    "version": 3
   },
   "file_extension": ".py",
   "mimetype": "text/x-python",
   "name": "python",
   "nbconvert_exporter": "python",
   "pygments_lexer": "ipython3",
   "version": "3.12.10"
  }
 },
 "nbformat": 4,
 "nbformat_minor": 5
}
